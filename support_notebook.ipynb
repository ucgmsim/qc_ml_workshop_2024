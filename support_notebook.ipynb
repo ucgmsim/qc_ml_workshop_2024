{
 "cells": [
  {
   "metadata": {},
   "cell_type": "markdown",
   "source": "## Pandas Help",
   "id": "7cebdd4ed610fedd"
  },
  {
   "metadata": {},
   "cell_type": "markdown",
   "source": "## Scikit-learn Help",
   "id": "63fb2e4757e5d6da"
  },
  {
   "metadata": {},
   "cell_type": "markdown",
   "source": "## Solutions",
   "id": "b086f2c7ba422678"
  },
  {
   "metadata": {},
   "cell_type": "markdown",
   "source": "### Pre-processing of the heart disease dataset",
   "id": "d2fb50c38476943e"
  },
  {
   "metadata": {},
   "cell_type": "code",
   "outputs": [],
   "execution_count": null,
   "source": [
    "# Setup, same as in the main notebook\n",
    "from ml_nb_code import get_heart_df\n",
    "\n",
    "heart_df = get_heart_df(features=[\"thalach\", \"oldpeak\", \"thal\"])\n",
    "heart_df"
   ],
   "id": "852d020d088ec6a1"
  },
  {
   "metadata": {},
   "cell_type": "code",
   "outputs": [],
   "execution_count": null,
   "source": [
    "# Import the necessary libraries\n",
    "from sklearn.preprocessing import StandardScaler, OneHotEncoder\n",
    "from sklearn.preprocessing import LabelEncoder\n",
    "\n",
    "# Check for missing values\n",
    "print(heart_df.isna().sum())\n",
    "\n",
    "# Normalise the features\n",
    "numerical_features = [\"thalach\", \"oldpeak\"]\n",
    "std_scaler = StandardScaler()\n",
    "heart_df[numerical_features] = std_scaler.fit_transform(heart_df[numerical_features])\n",
    "\n",
    "# Encode the categorical features\n",
    "categorical_features = [\"thal\"]\n",
    "encoder = OneHotEncoder(sparse_output=False)\n",
    "encoded_data = encoder.fit_transform(heart_df[categorical_features])\n",
    "heart_df[encoder.get_feature_names_out()] = encoded_data\n",
    "\n",
    "# Encode the labels\n",
    "label_encoder = LabelEncoder()\n",
    "heart_df[\"target_encoded\"] = label_encoder.fit_transform(heart_df[\"target\"])\n",
    "\n",
    "features = numerical_features + list(encoder.get_feature_names_out())"
   ],
   "id": "4d845e3af839a434"
  }
 ],
 "metadata": {
  "kernelspec": {
   "display_name": "Python 3",
   "language": "python",
   "name": "python3"
  },
  "language_info": {
   "codemirror_mode": {
    "name": "ipython",
    "version": 2
   },
   "file_extension": ".py",
   "mimetype": "text/x-python",
   "name": "python",
   "nbconvert_exporter": "python",
   "pygments_lexer": "ipython2",
   "version": "2.7.6"
  }
 },
 "nbformat": 4,
 "nbformat_minor": 5
}
