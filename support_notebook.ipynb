{
 "cells": [
  {
   "metadata": {},
   "cell_type": "code",
   "outputs": [],
   "execution_count": null,
   "source": "### Pre-processing of the ",
   "id": "479bf43802e47e71"
  },
  {
   "metadata": {},
   "cell_type": "code",
   "outputs": [],
   "execution_count": null,
   "source": [
    "# Setup, same as in the main notebook\n",
    "import notebook_code as nc\n",
    "df = nc.load_weather_data(with_missing_values=True, subset=True, features=[\"temperature\", \"humidity\", \"location_type\"])\n",
    "df.head()"
   ],
   "id": "852d020d088ec6a1"
  },
  {
   "metadata": {},
   "cell_type": "code",
   "outputs": [],
   "execution_count": null,
   "source": [
    "from sklearn.preprocessing import StandardScaler, OneHotEncoder, LabelEncoder\n",
    "\n",
    "# Drop rows with missing data\n",
    "print(f\"Number of samples before dropping: {len(df)}\")\n",
    "df = df.dropna()\n",
    "print(f\"Number of samples after dropping: {len(df)}\")\n",
    "df.isna().sum(axis=0)\n",
    "\n",
    "# Standardise numerical features\n",
    "numerical_features = [\"temperature\", \"humidity\"]\n",
    "scaler = StandardScaler()\n",
    "scaler.fit(df[numerical_features])\n",
    "df[numerical_features] = scaler.transform(df[numerical_features])\n",
    "\n",
    "# Encode categorial features\n",
    "nominal_features = [\"location_type\"]\n",
    "encoder = OneHotEncoder(sparse_output=False)\n",
    "encoder.fit(df[nominal_features])\n",
    "encoded_columns = encoder.get_feature_names_out(nominal_features)\n",
    "df[encoded_columns] = encoder.transform(df[nominal_features])\n",
    "\n",
    "# Encode target variable\n",
    "label_encoder = LabelEncoder()\n",
    "df[\"target_encoded\"] = label_encoder.fit_transform(df[\"target\"])\n",
    "\n",
    "df.head()"
   ],
   "id": "4d845e3af839a434"
  }
 ],
 "metadata": {
  "kernelspec": {
   "display_name": "Python 3",
   "language": "python",
   "name": "python3"
  },
  "language_info": {
   "codemirror_mode": {
    "name": "ipython",
    "version": 2
   },
   "file_extension": ".py",
   "mimetype": "text/x-python",
   "name": "python",
   "nbconvert_exporter": "python",
   "pygments_lexer": "ipython2",
   "version": "2.7.6"
  }
 },
 "nbformat": 4,
 "nbformat_minor": 5
}
