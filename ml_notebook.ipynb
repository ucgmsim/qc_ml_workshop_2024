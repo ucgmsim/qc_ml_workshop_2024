{
 "cells": [
  {
   "metadata": {},
   "cell_type": "markdown",
   "source": [
    "# QC Machine Learning Workshop Notebook\n",
    "\n",
    "## Content\n",
    "This notebook is a general introduction to machine learning. It covers the following topics:\n",
    "- **Supervised Machine Learning Overview & Jargon**\n",
    "- **Data Preprocessing**\n",
    "    - Missing data\n",
    "    - Input standardisation\n",
    "    - Categorial inputs\n",
    "    - Label encoding\n",
    "- **Model Fitting**\n",
    "    - Decision tree fitting\n",
    "    - Overfitting/Underfitting\n",
    "- **Model Evaluation & Hyperparameters**\n",
    "    - Train/Validation Split\n",
    "    - Cross Validation\n",
    "- **Hyperparameters**\n",
    "    - Hyperparameters\n",
    "    - Hyperparameter Tuning\n",
    "\n",
    "#### Notebook Instructions\n",
    "Run cells containing code by clicking on them and hitting **Ctrl+Enter** or by Cell>Run Cells in the drop-down menu.\n",
    "\n",
    "#### Binder Timeout\n",
    "Binder has a timeout of 10 minutes. If you are inactive for more than 10 minutes, the session will be terminated. You can restart the session by clicking on the Binder link again. Changes you made to the notebook will be lost.\n",
    "\n",
    "### Github Repository\n",
    "The code for this notebook can be found in the following [repository](https://github.com/ucgmsim/qc_ml_workshop_2024).\n",
    "\n",
    "### Figure Credit\n",
    "All figures are from the book \"Sebastian Raschka, Yuxi (Hayden) Liu, and Vahid Mirjalili. Machine Learning with PyTorch and Scikit-Learn. Packt Publishing, 2022.\"  \n",
    " "
   ],
   "id": "25ed0b3b842e3af7"
  },
  {
   "metadata": {},
   "cell_type": "markdown",
   "source": [
    "## Machine Learning Overview\n",
    "\n",
    "\n",
    "### Types of Machine Learning\n",
    "<img src=\"resources/imgs/ml_types.png\" width=\"1000\"/>\n",
    "\n",
    "**Only looking at supervised ML in this workshop.**\n",
    "\n",
    "### Typical supervised ML workflow\n",
    "<img src=\"resources/imgs/ml_workflow.png\" width=\"1000\"/>\n",
    "\n",
    "### Classification vs Regression\n",
    "Classification: Predicting a class label  \n",
    "\n",
    "<img src=\"resources/imgs/ml_classification.png\" width=\"1000\">\n",
    "\n",
    "Regression: Predicting a continuous value  \n",
    "\n",
    "<img src=\"resources/imgs/ml_regression.png\" width=\"1000\">\n",
    "\n",
    "### Jargon\n",
    "<img src=\"resources/imgs/ml_jargon.png\" width=\"1000\">\n",
    "\n",
    "**Sample**: A single instance of data  \n",
    "**Feature**: An input variable used to make a prediction  \n",
    "**Label**: The output variable we are trying to predict  \n",
    "**Model**: The algorithm used to make predictions  \n",
    "**Training**: The process of learning the model from the data\n",
    "\n",
    "TODO: \n",
    "- Add figure credits"
   ],
   "id": "efb16ccb5af3dd58"
  },
  {
   "metadata": {},
   "cell_type": "markdown",
   "source": [
    "## Python Packages\n",
    "- **Pandas**: Data manipulation, [website](https://pandas.pydata.org/), [user guide](https://pandas.pydata.org/docs/user_guide/index.html)\n",
    "- **Numpy**: Numerical operations, [website](https://numpy.org/), [user guide](https://numpy.org/doc/stable/user/index.html)\n",
    "- **Scikit-learn**: Machine learning models, [website](https://scikit-learn.org/stable/index.html), [user guide](https://scikit-learn.org/stable/user_guide.html)\n",
    "- **Matplotlib**: Plotting, [website](https://matplotlib.org/), [user guide](https://matplotlib.org/stable/users/index)"
   ],
   "id": "7335f0975e6340d4"
  },
  {
   "metadata": {},
   "cell_type": "markdown",
   "source": [
    "## Resources for further learning\n",
    "\n",
    "#### Free, Online\n",
    "- [Kaggle \"Courses\"](https://www.kaggle.com/learn)\n",
    "\n",
    "#### Books\n",
    "- Machine Learning with Pytorch and Scitkit-learn, Sebastian Raschka\n",
    "- Hands-On Machine Learning with Scikit-Learn, Keras, and TensorFlow, Aurélien Géron"
   ],
   "id": "fe62df5c65f8aa85"
  },
  {
   "metadata": {
    "ExecuteTime": {
     "end_time": "2024-08-21T21:33:19.492339Z",
     "start_time": "2024-08-21T21:33:19.048715Z"
    }
   },
   "cell_type": "code",
   "source": [
    "# General imports \n",
    "import pandas as pd\n",
    "import numpy as np\n",
    "\n",
    "# Set random seed for reproducibility\n",
    "np.random.seed(42)"
   ],
   "id": "403eb88cec603552",
   "outputs": [],
   "execution_count": 1
  },
  {
   "metadata": {},
   "cell_type": "markdown",
   "source": [
    "## Data Preprocessing\n",
    "\n",
    "Why?\n",
    "- Garbage in, garbage out\n",
    "- Data needs to be in a format that the model can understand\n",
    "\n",
    "Additional resources:\n",
    "- [Scikit-learn preprocessing](https://scikit-learn.org/stable/modules/preprocessing.html)"
   ],
   "id": "cf51358b72c37b44"
  },
  {
   "metadata": {},
   "cell_type": "markdown",
   "source": [
    "### Missing Data\n",
    "Important to check if there is missing data and handle this. \n",
    "Potential to break models, silently and non-silently.\n",
    "\n",
    "How to handle:\n",
    "- Remove rows or features with missing data\n",
    "- Impute missing data, i.e. use interpolation techniques to infer missing values from the other samples, for example using the mean or median of the feature.\n",
    "\n",
    "Handling of missing data is dataset/problem specific!    "
   ],
   "id": "1f526d43f05801d6"
  },
  {
   "metadata": {
    "ExecuteTime": {
     "end_time": "2024-08-21T21:33:20.353199Z",
     "start_time": "2024-08-21T21:33:19.504855Z"
    }
   },
   "cell_type": "code",
   "source": [
    "from ml_nb_code import get_nan_example\n",
    "df = get_nan_example()\n",
    "df"
   ],
   "id": "f02f2bc42fc84f26",
   "outputs": [
    {
     "data": {
      "text/plain": [
       "   Feature1  Feature2  Feature3  Target\n",
       "0  0.374540       NaN  0.731994    Safe\n",
       "1  0.598658  0.156019  0.155995  Unsafe\n",
       "2  0.058084  0.866176  0.601115  Unsafe\n",
       "3  0.708073  0.020584  0.969910    Safe\n",
       "4  0.832443  0.212339       NaN  Unsafe\n",
       "5  0.183405  0.304242  0.524756    Safe\n",
       "6  0.431945  0.291229  0.611853    Safe\n",
       "7       NaN  0.292145  0.366362  Unsafe\n",
       "8  0.456070  0.785176  0.199674    Safe\n",
       "9       NaN  0.592415  0.046450  Unsafe"
      ],
      "text/html": [
       "<div>\n",
       "<style scoped>\n",
       "    .dataframe tbody tr th:only-of-type {\n",
       "        vertical-align: middle;\n",
       "    }\n",
       "\n",
       "    .dataframe tbody tr th {\n",
       "        vertical-align: top;\n",
       "    }\n",
       "\n",
       "    .dataframe thead th {\n",
       "        text-align: right;\n",
       "    }\n",
       "</style>\n",
       "<table border=\"1\" class=\"dataframe\">\n",
       "  <thead>\n",
       "    <tr style=\"text-align: right;\">\n",
       "      <th></th>\n",
       "      <th>Feature1</th>\n",
       "      <th>Feature2</th>\n",
       "      <th>Feature3</th>\n",
       "      <th>Target</th>\n",
       "    </tr>\n",
       "  </thead>\n",
       "  <tbody>\n",
       "    <tr>\n",
       "      <th>0</th>\n",
       "      <td>0.374540</td>\n",
       "      <td>NaN</td>\n",
       "      <td>0.731994</td>\n",
       "      <td>Safe</td>\n",
       "    </tr>\n",
       "    <tr>\n",
       "      <th>1</th>\n",
       "      <td>0.598658</td>\n",
       "      <td>0.156019</td>\n",
       "      <td>0.155995</td>\n",
       "      <td>Unsafe</td>\n",
       "    </tr>\n",
       "    <tr>\n",
       "      <th>2</th>\n",
       "      <td>0.058084</td>\n",
       "      <td>0.866176</td>\n",
       "      <td>0.601115</td>\n",
       "      <td>Unsafe</td>\n",
       "    </tr>\n",
       "    <tr>\n",
       "      <th>3</th>\n",
       "      <td>0.708073</td>\n",
       "      <td>0.020584</td>\n",
       "      <td>0.969910</td>\n",
       "      <td>Safe</td>\n",
       "    </tr>\n",
       "    <tr>\n",
       "      <th>4</th>\n",
       "      <td>0.832443</td>\n",
       "      <td>0.212339</td>\n",
       "      <td>NaN</td>\n",
       "      <td>Unsafe</td>\n",
       "    </tr>\n",
       "    <tr>\n",
       "      <th>5</th>\n",
       "      <td>0.183405</td>\n",
       "      <td>0.304242</td>\n",
       "      <td>0.524756</td>\n",
       "      <td>Safe</td>\n",
       "    </tr>\n",
       "    <tr>\n",
       "      <th>6</th>\n",
       "      <td>0.431945</td>\n",
       "      <td>0.291229</td>\n",
       "      <td>0.611853</td>\n",
       "      <td>Safe</td>\n",
       "    </tr>\n",
       "    <tr>\n",
       "      <th>7</th>\n",
       "      <td>NaN</td>\n",
       "      <td>0.292145</td>\n",
       "      <td>0.366362</td>\n",
       "      <td>Unsafe</td>\n",
       "    </tr>\n",
       "    <tr>\n",
       "      <th>8</th>\n",
       "      <td>0.456070</td>\n",
       "      <td>0.785176</td>\n",
       "      <td>0.199674</td>\n",
       "      <td>Safe</td>\n",
       "    </tr>\n",
       "    <tr>\n",
       "      <th>9</th>\n",
       "      <td>NaN</td>\n",
       "      <td>0.592415</td>\n",
       "      <td>0.046450</td>\n",
       "      <td>Unsafe</td>\n",
       "    </tr>\n",
       "  </tbody>\n",
       "</table>\n",
       "</div>"
      ]
     },
     "execution_count": 2,
     "metadata": {},
     "output_type": "execute_result"
    }
   ],
   "execution_count": 2
  },
  {
   "metadata": {
    "ExecuteTime": {
     "end_time": "2024-08-21T21:33:20.414355Z",
     "start_time": "2024-08-21T21:33:20.410561Z"
    }
   },
   "cell_type": "code",
   "source": [
    "# Drop rows with missing data\n",
    "df = df.dropna()\n",
    "df.loc[df.isna().any(axis=1)]"
   ],
   "id": "19aba4c4921f47b8",
   "outputs": [
    {
     "data": {
      "text/plain": [
       "Empty DataFrame\n",
       "Columns: [Feature1, Feature2, Feature3, Target]\n",
       "Index: []"
      ],
      "text/html": [
       "<div>\n",
       "<style scoped>\n",
       "    .dataframe tbody tr th:only-of-type {\n",
       "        vertical-align: middle;\n",
       "    }\n",
       "\n",
       "    .dataframe tbody tr th {\n",
       "        vertical-align: top;\n",
       "    }\n",
       "\n",
       "    .dataframe thead th {\n",
       "        text-align: right;\n",
       "    }\n",
       "</style>\n",
       "<table border=\"1\" class=\"dataframe\">\n",
       "  <thead>\n",
       "    <tr style=\"text-align: right;\">\n",
       "      <th></th>\n",
       "      <th>Feature1</th>\n",
       "      <th>Feature2</th>\n",
       "      <th>Feature3</th>\n",
       "      <th>Target</th>\n",
       "    </tr>\n",
       "  </thead>\n",
       "  <tbody>\n",
       "  </tbody>\n",
       "</table>\n",
       "</div>"
      ]
     },
     "execution_count": 3,
     "metadata": {},
     "output_type": "execute_result"
    }
   ],
   "execution_count": 3
  },
  {
   "metadata": {
    "ExecuteTime": {
     "end_time": "2024-08-21T21:33:20.456622Z",
     "start_time": "2024-08-21T21:33:20.452916Z"
    }
   },
   "cell_type": "code",
   "source": "df",
   "id": "17f35ad7121c4b6f",
   "outputs": [
    {
     "data": {
      "text/plain": [
       "   Feature1  Feature2  Feature3  Target\n",
       "1  0.598658  0.156019  0.155995  Unsafe\n",
       "2  0.058084  0.866176  0.601115  Unsafe\n",
       "3  0.708073  0.020584  0.969910    Safe\n",
       "5  0.183405  0.304242  0.524756    Safe\n",
       "6  0.431945  0.291229  0.611853    Safe\n",
       "8  0.456070  0.785176  0.199674    Safe"
      ],
      "text/html": [
       "<div>\n",
       "<style scoped>\n",
       "    .dataframe tbody tr th:only-of-type {\n",
       "        vertical-align: middle;\n",
       "    }\n",
       "\n",
       "    .dataframe tbody tr th {\n",
       "        vertical-align: top;\n",
       "    }\n",
       "\n",
       "    .dataframe thead th {\n",
       "        text-align: right;\n",
       "    }\n",
       "</style>\n",
       "<table border=\"1\" class=\"dataframe\">\n",
       "  <thead>\n",
       "    <tr style=\"text-align: right;\">\n",
       "      <th></th>\n",
       "      <th>Feature1</th>\n",
       "      <th>Feature2</th>\n",
       "      <th>Feature3</th>\n",
       "      <th>Target</th>\n",
       "    </tr>\n",
       "  </thead>\n",
       "  <tbody>\n",
       "    <tr>\n",
       "      <th>1</th>\n",
       "      <td>0.598658</td>\n",
       "      <td>0.156019</td>\n",
       "      <td>0.155995</td>\n",
       "      <td>Unsafe</td>\n",
       "    </tr>\n",
       "    <tr>\n",
       "      <th>2</th>\n",
       "      <td>0.058084</td>\n",
       "      <td>0.866176</td>\n",
       "      <td>0.601115</td>\n",
       "      <td>Unsafe</td>\n",
       "    </tr>\n",
       "    <tr>\n",
       "      <th>3</th>\n",
       "      <td>0.708073</td>\n",
       "      <td>0.020584</td>\n",
       "      <td>0.969910</td>\n",
       "      <td>Safe</td>\n",
       "    </tr>\n",
       "    <tr>\n",
       "      <th>5</th>\n",
       "      <td>0.183405</td>\n",
       "      <td>0.304242</td>\n",
       "      <td>0.524756</td>\n",
       "      <td>Safe</td>\n",
       "    </tr>\n",
       "    <tr>\n",
       "      <th>6</th>\n",
       "      <td>0.431945</td>\n",
       "      <td>0.291229</td>\n",
       "      <td>0.611853</td>\n",
       "      <td>Safe</td>\n",
       "    </tr>\n",
       "    <tr>\n",
       "      <th>8</th>\n",
       "      <td>0.456070</td>\n",
       "      <td>0.785176</td>\n",
       "      <td>0.199674</td>\n",
       "      <td>Safe</td>\n",
       "    </tr>\n",
       "  </tbody>\n",
       "</table>\n",
       "</div>"
      ]
     },
     "execution_count": 4,
     "metadata": {},
     "output_type": "execute_result"
    }
   ],
   "execution_count": 4
  },
  {
   "metadata": {},
   "cell_type": "markdown",
   "source": [
    "### Standardisation/Normalisation\n",
    "\n",
    "Almost all machine learning models require features to be features to be on the same scale, this prevents the model from being biased towards features with larger scales."
   ],
   "id": "bb5cd16ad9a25f36"
  },
  {
   "metadata": {
    "ExecuteTime": {
     "end_time": "2024-08-21T21:33:20.670417Z",
     "start_time": "2024-08-21T21:33:20.569759Z"
    }
   },
   "cell_type": "code",
   "source": [
    "from ml_nb_code import feature_scaling\n",
    "feature_scaling()"
   ],
   "id": "9402ce6976f04c3e",
   "outputs": [
    {
     "data": {
      "text/plain": [
       "interactive(children=(FloatLogSlider(value=1.0, description='X2 Scale', max=3.0, min=-3.0, step=1.0), Output()…"
      ],
      "application/vnd.jupyter.widget-view+json": {
       "version_major": 2,
       "version_minor": 0,
       "model_id": "1e9b84918f424094ae323a7b554f5899"
      }
     },
     "metadata": {},
     "output_type": "display_data"
    }
   ],
   "execution_count": 5
  },
  {
   "metadata": {},
   "cell_type": "markdown",
   "source": [
    "Two common methods to scale features:\n",
    "\n",
    "#### Min-Max Scaling\n",
    "Transforms the data to be between a lower bound $x_min$ and upper bound $x_max$  \n",
    "$X_{norm} = \\frac{X - X_{min}} {X_{max} - X_{min}}$\n",
    "\n",
    "#### Standardisation\n",
    "Transforms the data to have zero mean and unit variance   \n",
    "$X_{std} = \\frac{X - \\mu} {\\sigma}$"
   ],
   "id": "7afac742f0d8fc2b"
  },
  {
   "metadata": {
    "ExecuteTime": {
     "end_time": "2024-08-21T21:33:20.872133Z",
     "start_time": "2024-08-21T21:33:20.708167Z"
    }
   },
   "cell_type": "code",
   "source": [
    "# Apply standardisation \n",
    "from ml_nb_code import feature_scaling_example\n",
    "feature_scaling_example()"
   ],
   "id": "57bce32072d12cee",
   "outputs": [
    {
     "data": {
      "text/plain": [
       "<Figure size 1000x500 with 2 Axes>"
      ],
      "image/png": "[encoded data removed]"
     },
     "metadata": {},
     "output_type": "display_data"
    }
   ],
   "execution_count": 6
  },
  {
   "metadata": {},
   "cell_type": "markdown",
   "source": "#### Implementation",
   "id": "a25f45f235a48881"
  },
  {
   "metadata": {
    "ExecuteTime": {
     "end_time": "2024-08-21T21:33:20.894812Z",
     "start_time": "2024-08-21T21:33:20.890562Z"
    }
   },
   "cell_type": "code",
   "source": [
    "# Manually\n",
    "from ml_nb_code import get_fs_data\n",
    "df = get_fs_data()\n",
    "\n",
    "df[\"x1_norm\"] = (df[\"x1\"] - df[\"x1\"].mean()) / df[\"x1\"].std()\n",
    "df[\"x2_norm\"] = (df[\"x2\"] - df[\"x2\"].mean()) / df[\"x2\"].std()\n",
    "\n",
    "print(f\"Mean: {df['x1_norm'].mean()}, Std: {df['x1_norm'].std()}\")\n",
    "print(f\"Mean: {df['x2_norm'].mean()}, Std: {df['x2_norm'].std()}\")"
   ],
   "id": "5bda004f49a5880",
   "outputs": [
    {
     "name": "stdout",
     "output_type": "stream",
     "text": [
      "Mean: 8.43769498715119e-17, Std: 1.0\n",
      "Mean: -1.0325074129013956e-16, Std: 0.9999999999999999\n"
     ]
    }
   ],
   "execution_count": 7
  },
  {
   "metadata": {
    "ExecuteTime": {
     "end_time": "2024-08-21T21:33:20.937873Z",
     "start_time": "2024-08-21T21:33:20.932829Z"
    }
   },
   "cell_type": "code",
   "source": [
    "# Using sklearn\n",
    "from ml_nb_code import get_fs_data\n",
    "from sklearn.preprocessing import StandardScaler\n",
    "df = get_fs_data()\n",
    "\n",
    "# Initialize the StandardScaler\n",
    "scaler = StandardScaler()\n",
    "\n",
    "# Fit the scaler to the data (i.e. calculate the mean and standard deviation)\n",
    "scaler.fit(df[[\"x1\", \"x2\"]])\n",
    "# Transform the data\n",
    "df[[\"x1_norm\", \"x2_norm\"]] = scaler.transform(df[[\"x1\", \"x2\"]])\n",
    "\n",
    "# Can combine the fit and transform steps\n",
    "# df[[\"x1_norm\", \"x2_norm\"]] = scaler.fit_transform(df[[\"x1\", \"x2\"]])\n",
    "\n",
    "print(f\"Mean: {df['x1_norm'].mean()}, Std: {df['x1_norm'].std()}\")\n",
    "print(f\"Mean: {df['x2_norm'].mean()}, Std: {df['x2_norm'].std()}\")"
   ],
   "id": "1900fac8bf0bb2f3",
   "outputs": [
    {
     "name": "stdout",
     "output_type": "stream",
     "text": [
      "Mean: -1.3211653993039362e-16, Std: 1.005037815259212\n",
      "Mean: 2.7366997557010107e-16, Std: 1.0050378152592119\n"
     ]
    }
   ],
   "execution_count": 8
  },
  {
   "metadata": {},
   "cell_type": "markdown",
   "source": [
    "### Categorial Features/Inputs\n",
    "\n",
    "Machine learning models require numerical inputs, so categorial features need to be encoded.  \n",
    "There are multiple ways to do this, one of the most common approaches is one-hot encoding."
   ],
   "id": "2510eaf8c9a8daf1"
  },
  {
   "metadata": {
    "ExecuteTime": {
     "end_time": "2024-08-21T21:33:20.970205Z",
     "start_time": "2024-08-21T21:33:20.965787Z"
    }
   },
   "cell_type": "code",
   "source": [
    "# Load some example data\n",
    "from ml_nb_code import get_safe_unsafe_data\n",
    "df = get_safe_unsafe_data()\n",
    "df"
   ],
   "id": "94cb168d0ef0c8b9",
   "outputs": [
    {
     "data": {
      "text/plain": [
       "   load_capacity material_type  age   safe\n",
       "0             50      Concrete   10  False\n",
       "1             30      Concrete    5   True\n",
       "2             70      Concrete   25  False\n",
       "3             70         Steel   35  False\n",
       "4             60         Steel   15   True\n",
       "5             50         Steel    8   True\n",
       "6             35         Steel    3   True"
      ],
      "text/html": [
       "<div>\n",
       "<style scoped>\n",
       "    .dataframe tbody tr th:only-of-type {\n",
       "        vertical-align: middle;\n",
       "    }\n",
       "\n",
       "    .dataframe tbody tr th {\n",
       "        vertical-align: top;\n",
       "    }\n",
       "\n",
       "    .dataframe thead th {\n",
       "        text-align: right;\n",
       "    }\n",
       "</style>\n",
       "<table border=\"1\" class=\"dataframe\">\n",
       "  <thead>\n",
       "    <tr style=\"text-align: right;\">\n",
       "      <th></th>\n",
       "      <th>load_capacity</th>\n",
       "      <th>material_type</th>\n",
       "      <th>age</th>\n",
       "      <th>safe</th>\n",
       "    </tr>\n",
       "  </thead>\n",
       "  <tbody>\n",
       "    <tr>\n",
       "      <th>0</th>\n",
       "      <td>50</td>\n",
       "      <td>Concrete</td>\n",
       "      <td>10</td>\n",
       "      <td>False</td>\n",
       "    </tr>\n",
       "    <tr>\n",
       "      <th>1</th>\n",
       "      <td>30</td>\n",
       "      <td>Concrete</td>\n",
       "      <td>5</td>\n",
       "      <td>True</td>\n",
       "    </tr>\n",
       "    <tr>\n",
       "      <th>2</th>\n",
       "      <td>70</td>\n",
       "      <td>Concrete</td>\n",
       "      <td>25</td>\n",
       "      <td>False</td>\n",
       "    </tr>\n",
       "    <tr>\n",
       "      <th>3</th>\n",
       "      <td>70</td>\n",
       "      <td>Steel</td>\n",
       "      <td>35</td>\n",
       "      <td>False</td>\n",
       "    </tr>\n",
       "    <tr>\n",
       "      <th>4</th>\n",
       "      <td>60</td>\n",
       "      <td>Steel</td>\n",
       "      <td>15</td>\n",
       "      <td>True</td>\n",
       "    </tr>\n",
       "    <tr>\n",
       "      <th>5</th>\n",
       "      <td>50</td>\n",
       "      <td>Steel</td>\n",
       "      <td>8</td>\n",
       "      <td>True</td>\n",
       "    </tr>\n",
       "    <tr>\n",
       "      <th>6</th>\n",
       "      <td>35</td>\n",
       "      <td>Steel</td>\n",
       "      <td>3</td>\n",
       "      <td>True</td>\n",
       "    </tr>\n",
       "  </tbody>\n",
       "</table>\n",
       "</div>"
      ]
     },
     "execution_count": 9,
     "metadata": {},
     "output_type": "execute_result"
    }
   ],
   "execution_count": 9
  },
  {
   "metadata": {
    "ExecuteTime": {
     "end_time": "2024-08-21T21:33:21.016290Z",
     "start_time": "2024-08-21T21:33:21.010976Z"
    }
   },
   "cell_type": "code",
   "source": [
    "# Imports\n",
    "from sklearn.preprocessing import OneHotEncoder\n",
    "\n",
    "# Initialize OneHotEncoder\n",
    "encoder = OneHotEncoder(sparse_output=False)\n",
    "# Fit and transform the data\n",
    "encoded_data = encoder.fit_transform(df[['material_type']])\n",
    "\n",
    "# Create a new dataframe with the encoded data\n",
    "encoded_df = pd.DataFrame(encoded_data, columns=encoder.get_feature_names_out(['material_type']), dtype=int)\n",
    "# Concatenate the original and encoded dataframes\n",
    "result_df = pd.concat([df, encoded_df], axis=1)\n",
    "result_df"
   ],
   "id": "53d8bfb3107e4c2",
   "outputs": [
    {
     "data": {
      "text/plain": [
       "   load_capacity material_type  age   safe  material_type_Concrete  \\\n",
       "0             50      Concrete   10  False                       1   \n",
       "1             30      Concrete    5   True                       1   \n",
       "2             70      Concrete   25  False                       1   \n",
       "3             70         Steel   35  False                       0   \n",
       "4             60         Steel   15   True                       0   \n",
       "5             50         Steel    8   True                       0   \n",
       "6             35         Steel    3   True                       0   \n",
       "\n",
       "   material_type_Steel  \n",
       "0                    0  \n",
       "1                    0  \n",
       "2                    0  \n",
       "3                    1  \n",
       "4                    1  \n",
       "5                    1  \n",
       "6                    1  "
      ],
      "text/html": [
       "<div>\n",
       "<style scoped>\n",
       "    .dataframe tbody tr th:only-of-type {\n",
       "        vertical-align: middle;\n",
       "    }\n",
       "\n",
       "    .dataframe tbody tr th {\n",
       "        vertical-align: top;\n",
       "    }\n",
       "\n",
       "    .dataframe thead th {\n",
       "        text-align: right;\n",
       "    }\n",
       "</style>\n",
       "<table border=\"1\" class=\"dataframe\">\n",
       "  <thead>\n",
       "    <tr style=\"text-align: right;\">\n",
       "      <th></th>\n",
       "      <th>load_capacity</th>\n",
       "      <th>material_type</th>\n",
       "      <th>age</th>\n",
       "      <th>safe</th>\n",
       "      <th>material_type_Concrete</th>\n",
       "      <th>material_type_Steel</th>\n",
       "    </tr>\n",
       "  </thead>\n",
       "  <tbody>\n",
       "    <tr>\n",
       "      <th>0</th>\n",
       "      <td>50</td>\n",
       "      <td>Concrete</td>\n",
       "      <td>10</td>\n",
       "      <td>False</td>\n",
       "      <td>1</td>\n",
       "      <td>0</td>\n",
       "    </tr>\n",
       "    <tr>\n",
       "      <th>1</th>\n",
       "      <td>30</td>\n",
       "      <td>Concrete</td>\n",
       "      <td>5</td>\n",
       "      <td>True</td>\n",
       "      <td>1</td>\n",
       "      <td>0</td>\n",
       "    </tr>\n",
       "    <tr>\n",
       "      <th>2</th>\n",
       "      <td>70</td>\n",
       "      <td>Concrete</td>\n",
       "      <td>25</td>\n",
       "      <td>False</td>\n",
       "      <td>1</td>\n",
       "      <td>0</td>\n",
       "    </tr>\n",
       "    <tr>\n",
       "      <th>3</th>\n",
       "      <td>70</td>\n",
       "      <td>Steel</td>\n",
       "      <td>35</td>\n",
       "      <td>False</td>\n",
       "      <td>0</td>\n",
       "      <td>1</td>\n",
       "    </tr>\n",
       "    <tr>\n",
       "      <th>4</th>\n",
       "      <td>60</td>\n",
       "      <td>Steel</td>\n",
       "      <td>15</td>\n",
       "      <td>True</td>\n",
       "      <td>0</td>\n",
       "      <td>1</td>\n",
       "    </tr>\n",
       "    <tr>\n",
       "      <th>5</th>\n",
       "      <td>50</td>\n",
       "      <td>Steel</td>\n",
       "      <td>8</td>\n",
       "      <td>True</td>\n",
       "      <td>0</td>\n",
       "      <td>1</td>\n",
       "    </tr>\n",
       "    <tr>\n",
       "      <th>6</th>\n",
       "      <td>35</td>\n",
       "      <td>Steel</td>\n",
       "      <td>3</td>\n",
       "      <td>True</td>\n",
       "      <td>0</td>\n",
       "      <td>1</td>\n",
       "    </tr>\n",
       "  </tbody>\n",
       "</table>\n",
       "</div>"
      ]
     },
     "execution_count": 10,
     "metadata": {},
     "output_type": "execute_result"
    }
   ],
   "execution_count": 10
  },
  {
   "metadata": {},
   "cell_type": "markdown",
   "source": [
    "### Label encoding\n",
    "Similarly to features, ML models also require the target variable to be numerical. This is generally done using label encoding."
   ],
   "id": "8ba126cdda2bb3d"
  },
  {
   "metadata": {
    "ExecuteTime": {
     "end_time": "2024-08-21T21:33:21.071312Z",
     "start_time": "2024-08-21T21:33:21.067078Z"
    }
   },
   "cell_type": "code",
   "source": [
    "from sklearn.preprocessing import LabelEncoder\n",
    "df = get_safe_unsafe_data()\n",
    "df"
   ],
   "id": "fcc80877f4feda67",
   "outputs": [
    {
     "data": {
      "text/plain": [
       "   load_capacity material_type  age   safe\n",
       "0             50      Concrete   10  False\n",
       "1             30      Concrete    5   True\n",
       "2             70      Concrete   25  False\n",
       "3             70         Steel   35  False\n",
       "4             60         Steel   15   True\n",
       "5             50         Steel    8   True\n",
       "6             35         Steel    3   True"
      ],
      "text/html": [
       "<div>\n",
       "<style scoped>\n",
       "    .dataframe tbody tr th:only-of-type {\n",
       "        vertical-align: middle;\n",
       "    }\n",
       "\n",
       "    .dataframe tbody tr th {\n",
       "        vertical-align: top;\n",
       "    }\n",
       "\n",
       "    .dataframe thead th {\n",
       "        text-align: right;\n",
       "    }\n",
       "</style>\n",
       "<table border=\"1\" class=\"dataframe\">\n",
       "  <thead>\n",
       "    <tr style=\"text-align: right;\">\n",
       "      <th></th>\n",
       "      <th>load_capacity</th>\n",
       "      <th>material_type</th>\n",
       "      <th>age</th>\n",
       "      <th>safe</th>\n",
       "    </tr>\n",
       "  </thead>\n",
       "  <tbody>\n",
       "    <tr>\n",
       "      <th>0</th>\n",
       "      <td>50</td>\n",
       "      <td>Concrete</td>\n",
       "      <td>10</td>\n",
       "      <td>False</td>\n",
       "    </tr>\n",
       "    <tr>\n",
       "      <th>1</th>\n",
       "      <td>30</td>\n",
       "      <td>Concrete</td>\n",
       "      <td>5</td>\n",
       "      <td>True</td>\n",
       "    </tr>\n",
       "    <tr>\n",
       "      <th>2</th>\n",
       "      <td>70</td>\n",
       "      <td>Concrete</td>\n",
       "      <td>25</td>\n",
       "      <td>False</td>\n",
       "    </tr>\n",
       "    <tr>\n",
       "      <th>3</th>\n",
       "      <td>70</td>\n",
       "      <td>Steel</td>\n",
       "      <td>35</td>\n",
       "      <td>False</td>\n",
       "    </tr>\n",
       "    <tr>\n",
       "      <th>4</th>\n",
       "      <td>60</td>\n",
       "      <td>Steel</td>\n",
       "      <td>15</td>\n",
       "      <td>True</td>\n",
       "    </tr>\n",
       "    <tr>\n",
       "      <th>5</th>\n",
       "      <td>50</td>\n",
       "      <td>Steel</td>\n",
       "      <td>8</td>\n",
       "      <td>True</td>\n",
       "    </tr>\n",
       "    <tr>\n",
       "      <th>6</th>\n",
       "      <td>35</td>\n",
       "      <td>Steel</td>\n",
       "      <td>3</td>\n",
       "      <td>True</td>\n",
       "    </tr>\n",
       "  </tbody>\n",
       "</table>\n",
       "</div>"
      ]
     },
     "execution_count": 11,
     "metadata": {},
     "output_type": "execute_result"
    }
   ],
   "execution_count": 11
  },
  {
   "metadata": {
    "ExecuteTime": {
     "end_time": "2024-08-21T21:33:21.181128Z",
     "start_time": "2024-08-21T21:33:21.176955Z"
    }
   },
   "cell_type": "code",
   "source": [
    "# Initialize LabelEncoder\n",
    "label_encoder = LabelEncoder()\n",
    "# Fit and transform the data\n",
    "df[\"safe_encoded\"] = label_encoder.fit_transform(df[\"safe\"])\n",
    "df"
   ],
   "id": "5236da5f3d3d2d91",
   "outputs": [
    {
     "data": {
      "text/plain": [
       "   load_capacity material_type  age   safe  safe_encoded\n",
       "0             50      Concrete   10  False             0\n",
       "1             30      Concrete    5   True             1\n",
       "2             70      Concrete   25  False             0\n",
       "3             70         Steel   35  False             0\n",
       "4             60         Steel   15   True             1\n",
       "5             50         Steel    8   True             1\n",
       "6             35         Steel    3   True             1"
      ],
      "text/html": [
       "<div>\n",
       "<style scoped>\n",
       "    .dataframe tbody tr th:only-of-type {\n",
       "        vertical-align: middle;\n",
       "    }\n",
       "\n",
       "    .dataframe tbody tr th {\n",
       "        vertical-align: top;\n",
       "    }\n",
       "\n",
       "    .dataframe thead th {\n",
       "        text-align: right;\n",
       "    }\n",
       "</style>\n",
       "<table border=\"1\" class=\"dataframe\">\n",
       "  <thead>\n",
       "    <tr style=\"text-align: right;\">\n",
       "      <th></th>\n",
       "      <th>load_capacity</th>\n",
       "      <th>material_type</th>\n",
       "      <th>age</th>\n",
       "      <th>safe</th>\n",
       "      <th>safe_encoded</th>\n",
       "    </tr>\n",
       "  </thead>\n",
       "  <tbody>\n",
       "    <tr>\n",
       "      <th>0</th>\n",
       "      <td>50</td>\n",
       "      <td>Concrete</td>\n",
       "      <td>10</td>\n",
       "      <td>False</td>\n",
       "      <td>0</td>\n",
       "    </tr>\n",
       "    <tr>\n",
       "      <th>1</th>\n",
       "      <td>30</td>\n",
       "      <td>Concrete</td>\n",
       "      <td>5</td>\n",
       "      <td>True</td>\n",
       "      <td>1</td>\n",
       "    </tr>\n",
       "    <tr>\n",
       "      <th>2</th>\n",
       "      <td>70</td>\n",
       "      <td>Concrete</td>\n",
       "      <td>25</td>\n",
       "      <td>False</td>\n",
       "      <td>0</td>\n",
       "    </tr>\n",
       "    <tr>\n",
       "      <th>3</th>\n",
       "      <td>70</td>\n",
       "      <td>Steel</td>\n",
       "      <td>35</td>\n",
       "      <td>False</td>\n",
       "      <td>0</td>\n",
       "    </tr>\n",
       "    <tr>\n",
       "      <th>4</th>\n",
       "      <td>60</td>\n",
       "      <td>Steel</td>\n",
       "      <td>15</td>\n",
       "      <td>True</td>\n",
       "      <td>1</td>\n",
       "    </tr>\n",
       "    <tr>\n",
       "      <th>5</th>\n",
       "      <td>50</td>\n",
       "      <td>Steel</td>\n",
       "      <td>8</td>\n",
       "      <td>True</td>\n",
       "      <td>1</td>\n",
       "    </tr>\n",
       "    <tr>\n",
       "      <th>6</th>\n",
       "      <td>35</td>\n",
       "      <td>Steel</td>\n",
       "      <td>3</td>\n",
       "      <td>True</td>\n",
       "      <td>1</td>\n",
       "    </tr>\n",
       "  </tbody>\n",
       "</table>\n",
       "</div>"
      ]
     },
     "execution_count": 12,
     "metadata": {},
     "output_type": "execute_result"
    }
   ],
   "execution_count": 12
  },
  {
   "metadata": {
    "ExecuteTime": {
     "end_time": "2024-08-21T21:33:21.275056Z",
     "start_time": "2024-08-21T21:33:21.270980Z"
    }
   },
   "cell_type": "code",
   "source": [
    "# Inverse transform\n",
    "df[\"safe_2\"] = label_encoder.inverse_transform(df[\"safe_encoded\"])\n",
    "df"
   ],
   "id": "b806f278bf2a0360",
   "outputs": [
    {
     "data": {
      "text/plain": [
       "   load_capacity material_type  age   safe  safe_encoded  safe_2\n",
       "0             50      Concrete   10  False             0   False\n",
       "1             30      Concrete    5   True             1    True\n",
       "2             70      Concrete   25  False             0   False\n",
       "3             70         Steel   35  False             0   False\n",
       "4             60         Steel   15   True             1    True\n",
       "5             50         Steel    8   True             1    True\n",
       "6             35         Steel    3   True             1    True"
      ],
      "text/html": [
       "<div>\n",
       "<style scoped>\n",
       "    .dataframe tbody tr th:only-of-type {\n",
       "        vertical-align: middle;\n",
       "    }\n",
       "\n",
       "    .dataframe tbody tr th {\n",
       "        vertical-align: top;\n",
       "    }\n",
       "\n",
       "    .dataframe thead th {\n",
       "        text-align: right;\n",
       "    }\n",
       "</style>\n",
       "<table border=\"1\" class=\"dataframe\">\n",
       "  <thead>\n",
       "    <tr style=\"text-align: right;\">\n",
       "      <th></th>\n",
       "      <th>load_capacity</th>\n",
       "      <th>material_type</th>\n",
       "      <th>age</th>\n",
       "      <th>safe</th>\n",
       "      <th>safe_encoded</th>\n",
       "      <th>safe_2</th>\n",
       "    </tr>\n",
       "  </thead>\n",
       "  <tbody>\n",
       "    <tr>\n",
       "      <th>0</th>\n",
       "      <td>50</td>\n",
       "      <td>Concrete</td>\n",
       "      <td>10</td>\n",
       "      <td>False</td>\n",
       "      <td>0</td>\n",
       "      <td>False</td>\n",
       "    </tr>\n",
       "    <tr>\n",
       "      <th>1</th>\n",
       "      <td>30</td>\n",
       "      <td>Concrete</td>\n",
       "      <td>5</td>\n",
       "      <td>True</td>\n",
       "      <td>1</td>\n",
       "      <td>True</td>\n",
       "    </tr>\n",
       "    <tr>\n",
       "      <th>2</th>\n",
       "      <td>70</td>\n",
       "      <td>Concrete</td>\n",
       "      <td>25</td>\n",
       "      <td>False</td>\n",
       "      <td>0</td>\n",
       "      <td>False</td>\n",
       "    </tr>\n",
       "    <tr>\n",
       "      <th>3</th>\n",
       "      <td>70</td>\n",
       "      <td>Steel</td>\n",
       "      <td>35</td>\n",
       "      <td>False</td>\n",
       "      <td>0</td>\n",
       "      <td>False</td>\n",
       "    </tr>\n",
       "    <tr>\n",
       "      <th>4</th>\n",
       "      <td>60</td>\n",
       "      <td>Steel</td>\n",
       "      <td>15</td>\n",
       "      <td>True</td>\n",
       "      <td>1</td>\n",
       "      <td>True</td>\n",
       "    </tr>\n",
       "    <tr>\n",
       "      <th>5</th>\n",
       "      <td>50</td>\n",
       "      <td>Steel</td>\n",
       "      <td>8</td>\n",
       "      <td>True</td>\n",
       "      <td>1</td>\n",
       "      <td>True</td>\n",
       "    </tr>\n",
       "    <tr>\n",
       "      <th>6</th>\n",
       "      <td>35</td>\n",
       "      <td>Steel</td>\n",
       "      <td>3</td>\n",
       "      <td>True</td>\n",
       "      <td>1</td>\n",
       "      <td>True</td>\n",
       "    </tr>\n",
       "  </tbody>\n",
       "</table>\n",
       "</div>"
      ]
     },
     "execution_count": 13,
     "metadata": {},
     "output_type": "execute_result"
    }
   ],
   "execution_count": 13
  },
  {
   "metadata": {},
   "cell_type": "markdown",
   "source": [
    "## Model Fitting\n",
    "Now that we have preprocessed the data, we can fit a model to it.\n",
    "In this notebook we will focus solely on decision tree models, however there are many other model types available.\n",
    "\n",
    "List of most common ML models according to ChatGPT:\n",
    "> The most commonly used supervised machine learning models are:\n",
    "> \n",
    "> 1. **Linear Regression**: Used for predicting continuous values by modeling the relationship between input features and the target variable.\n",
    "> \n",
    "> 2. **Logistic Regression**: Used for binary classification tasks by estimating the probability that an instance belongs to a particular class.\n",
    "> \n",
    "> 3. **Decision Trees**: A versatile model that splits data into subsets based on feature values, used for both classification and regression tasks.\n",
    "> \n",
    "> 4. **Random Forest**: An ensemble of decision trees that improves performance by averaging the predictions of multiple trees to reduce overfitting.\n",
    "> \n",
    "> 5. **Support Vector Machines (SVM)**: A powerful model for classification tasks that finds the optimal hyperplane to separate different classes.\n",
    "> \n",
    "> 6. **k-Nearest Neighbors (k-NN)**: A simple classification model that assigns labels based on the majority class of the k-nearest neighbors in the training data.\n",
    "> \n",
    "> 7. **Naive Bayes**: A probabilistic classifier based on Bayes' theorem, assuming independence between features, often used for text classification.\n",
    "> \n",
    "> 8. **Gradient Boosting Machines (GBM)**: An ensemble model that builds trees sequentially, with each new tree correcting errors made by the previous ones (e.g., XGBoost, LightGBM, CatBoost).\n",
    "> \n",
    "> 9. **Neural Networks**: Particularly effective for complex tasks like image recognition and natural language processing, neural networks can model intricate patterns by learning from multiple layers of abstraction.\n",
    "> \n",
    "> 10. **k-Nearest Neighbors (k-NN)**: A non-parametric model used for both classification and regression, which predicts the output based on the closest training examples in the feature space.\n",
    "> \n",
    "> These models are widely used due to their effectiveness across various domains and their ability to handle different types of data and tasks.\n",
    "\n",
    "The scikit-learn library has implementation for almost all of these, see the [documentation](https://scikit-learn.org/stable/user_guide.html) for more details."
   ],
   "id": "d3f90c2619c3aa76"
  },
  {
   "metadata": {},
   "cell_type": "markdown",
   "source": "### Decision Tree Concepts",
   "id": "11b5ed885f5bf781"
  },
  {
   "metadata": {
    "ExecuteTime": {
     "end_time": "2024-08-21T21:33:21.929046Z",
     "start_time": "2024-08-21T21:33:21.483669Z"
    }
   },
   "cell_type": "code",
   "source": [
    "### TODO: Check that this is working correctly?\n",
    "# From David Dempsey's notebook\n",
    "# from ml_nb_code import decision_tree_old\n",
    "# decision_tree_old()\n",
    "\n",
    "from ml_nb_code import decision_tree\n",
    "decision_tree()\n",
    "\n",
    "# TASK 1\n",
    "# move the top slider to divide the dataset, trying both features\n",
    "# try to separate the safe and unsafe bridges as much as possible\n",
    "# when you are satisfied with the split of data, check the box to lock the root node\n",
    "\n",
    "# TASK 2\n",
    "# repeat the exercise for the lefthand and righthand sliders below\n",
    "# further separate and subdivide the data, trying to distinguish the two binary classes\n",
    "# can you construct a decision tree that classifies the two bridge types based on their features?\n",
    "\n",
    "# Consider the original dataframe given in the cells above. Which part is the feature matrix X, and\n",
    "# which is the label vector y?\n",
    "# What are the parameters of this model? What are the hyperparameters?\n",
    "\n",
    "# TASK 3\n",
    "# Suppose you are given a new bridge: load_capacity of 45, steel, and 10 years old. What would your model predict?"
   ],
   "id": "b585b5ad169a47e",
   "outputs": [
    {
     "data": {
      "text/plain": [
       "VBox(children=(HBox(children=(Dropdown(description='Root Node Feature:', index=1, options=('age', 'load_capaci…"
      ],
      "application/vnd.jupyter.widget-view+json": {
       "version_major": 2,
       "version_minor": 0,
       "model_id": "36e4d3f1a3e24fb4b5801b284046ba5c"
      }
     },
     "metadata": {},
     "output_type": "display_data"
    },
    {
     "data": {
      "text/plain": [
       "Output()"
      ],
      "application/vnd.jupyter.widget-view+json": {
       "version_major": 2,
       "version_minor": 0,
       "model_id": "d6b33b864cb6497abf79906e580f4d28"
      }
     },
     "metadata": {},
     "output_type": "display_data"
    }
   ],
   "execution_count": 14
  },
  {
   "metadata": {},
   "cell_type": "markdown",
   "source": [
    "## Dataset\n",
    "For the rest of this notebook we will use the heart disease dataset from the UCI Machine Learning Repository. You can find additional information about the dataset [here](https://archive.ics.uci.edu/ml/datasets/heart+Disease).\n",
    "\n",
    "The aim of this dataset is to predict whether a patient has heart disease or not based on a number of features. The target variable is binary, i.e. 0 for no heart disease and 1 for heart disease.  \n",
    "There are a total of 14 features in the dataset, some of which are categorical and some numerical.   \n",
    "For simplicity, we will only utilise three of these features: `thalach` (maximum heart rate achieved), `oldpeak` (ST depression induced by exercise relative to rest), and `thal` (thalassemia)."
   ],
   "id": "dfbd9047f29ae7df"
  },
  {
   "metadata": {},
   "cell_type": "markdown",
   "source": [
    "### Descision Tree (Hands on)\n",
    "- Hands on data pre-processing of the heart disease dataset (todo: add details)\n",
    "- Train a decision tree classifier"
   ],
   "id": "f8c2278c03ba149c"
  },
  {
   "metadata": {
    "ExecuteTime": {
     "end_time": "2024-08-21T21:33:22.683174Z",
     "start_time": "2024-08-21T21:33:22.008737Z"
    }
   },
   "cell_type": "code",
   "source": [
    "### Import relevant libraries and load the data\n",
    "from sklearn.preprocessing import LabelEncoder, OneHotEncoder\n",
    "from sklearn.preprocessing import StandardScaler\n",
    "from ml_nb_code import get_heart_df\n",
    "\n",
    "heart_df = get_heart_df(features=[\"thalach\", \"oldpeak\", \"thal\"])\n",
    "heart_df"
   ],
   "id": "79373e65cc9ec9c6",
   "outputs": [
    {
     "data": {
      "text/plain": [
       "     thalach  oldpeak               thal       target\n",
       "0      150.0      2.3       Fixed_defect     Presence\n",
       "1      108.0      1.5             Normal  No Presense\n",
       "2      129.0      2.6  Reversable_defect  No Presense\n",
       "3      187.0      3.5             Normal     Presence\n",
       "4      172.0      1.4             Normal     Presence\n",
       "..       ...      ...                ...          ...\n",
       "297    123.0      0.2  Reversable_defect  No Presense\n",
       "298    132.0      1.2  Reversable_defect  No Presense\n",
       "299    141.0      3.4  Reversable_defect  No Presense\n",
       "300    115.0      1.2  Reversable_defect  No Presense\n",
       "301    174.0      0.0             Normal  No Presense\n",
       "\n",
       "[297 rows x 4 columns]"
      ],
      "text/html": [
       "<div>\n",
       "<style scoped>\n",
       "    .dataframe tbody tr th:only-of-type {\n",
       "        vertical-align: middle;\n",
       "    }\n",
       "\n",
       "    .dataframe tbody tr th {\n",
       "        vertical-align: top;\n",
       "    }\n",
       "\n",
       "    .dataframe thead th {\n",
       "        text-align: right;\n",
       "    }\n",
       "</style>\n",
       "<table border=\"1\" class=\"dataframe\">\n",
       "  <thead>\n",
       "    <tr style=\"text-align: right;\">\n",
       "      <th></th>\n",
       "      <th>thalach</th>\n",
       "      <th>oldpeak</th>\n",
       "      <th>thal</th>\n",
       "      <th>target</th>\n",
       "    </tr>\n",
       "  </thead>\n",
       "  <tbody>\n",
       "    <tr>\n",
       "      <th>0</th>\n",
       "      <td>150.0</td>\n",
       "      <td>2.3</td>\n",
       "      <td>Fixed_defect</td>\n",
       "      <td>Presence</td>\n",
       "    </tr>\n",
       "    <tr>\n",
       "      <th>1</th>\n",
       "      <td>108.0</td>\n",
       "      <td>1.5</td>\n",
       "      <td>Normal</td>\n",
       "      <td>No Presense</td>\n",
       "    </tr>\n",
       "    <tr>\n",
       "      <th>2</th>\n",
       "      <td>129.0</td>\n",
       "      <td>2.6</td>\n",
       "      <td>Reversable_defect</td>\n",
       "      <td>No Presense</td>\n",
       "    </tr>\n",
       "    <tr>\n",
       "      <th>3</th>\n",
       "      <td>187.0</td>\n",
       "      <td>3.5</td>\n",
       "      <td>Normal</td>\n",
       "      <td>Presence</td>\n",
       "    </tr>\n",
       "    <tr>\n",
       "      <th>4</th>\n",
       "      <td>172.0</td>\n",
       "      <td>1.4</td>\n",
       "      <td>Normal</td>\n",
       "      <td>Presence</td>\n",
       "    </tr>\n",
       "    <tr>\n",
       "      <th>...</th>\n",
       "      <td>...</td>\n",
       "      <td>...</td>\n",
       "      <td>...</td>\n",
       "      <td>...</td>\n",
       "    </tr>\n",
       "    <tr>\n",
       "      <th>297</th>\n",
       "      <td>123.0</td>\n",
       "      <td>0.2</td>\n",
       "      <td>Reversable_defect</td>\n",
       "      <td>No Presense</td>\n",
       "    </tr>\n",
       "    <tr>\n",
       "      <th>298</th>\n",
       "      <td>132.0</td>\n",
       "      <td>1.2</td>\n",
       "      <td>Reversable_defect</td>\n",
       "      <td>No Presense</td>\n",
       "    </tr>\n",
       "    <tr>\n",
       "      <th>299</th>\n",
       "      <td>141.0</td>\n",
       "      <td>3.4</td>\n",
       "      <td>Reversable_defect</td>\n",
       "      <td>No Presense</td>\n",
       "    </tr>\n",
       "    <tr>\n",
       "      <th>300</th>\n",
       "      <td>115.0</td>\n",
       "      <td>1.2</td>\n",
       "      <td>Reversable_defect</td>\n",
       "      <td>No Presense</td>\n",
       "    </tr>\n",
       "    <tr>\n",
       "      <th>301</th>\n",
       "      <td>174.0</td>\n",
       "      <td>0.0</td>\n",
       "      <td>Normal</td>\n",
       "      <td>No Presense</td>\n",
       "    </tr>\n",
       "  </tbody>\n",
       "</table>\n",
       "<p>297 rows × 4 columns</p>\n",
       "</div>"
      ]
     },
     "execution_count": 15,
     "metadata": {},
     "output_type": "execute_result"
    }
   ],
   "execution_count": 15
  },
  {
   "metadata": {
    "ExecuteTime": {
     "end_time": "2024-08-21T21:33:22.723957Z",
     "start_time": "2024-08-21T21:33:22.717226Z"
    }
   },
   "cell_type": "code",
   "source": [
    "## Hands-On - Prepare the data\n",
    "\n",
    "### Solution -- Hidden\n",
    "\n",
    "# Check for missing values\n",
    "print(heart_df.isna().sum())\n",
    "\n",
    "# Normalise the features\n",
    "numerical_features = [\"thalach\", \"oldpeak\"]\n",
    "std_scaler = StandardScaler()\n",
    "heart_df[numerical_features] = std_scaler.fit_transform(heart_df[numerical_features])\n",
    "\n",
    "# Encode the categorical features\n",
    "categorical_features = [\"thal\"]\n",
    "encoder = OneHotEncoder(sparse_output=False)\n",
    "encoded_data = encoder.fit_transform(heart_df[categorical_features])\n",
    "heart_df[encoder.get_feature_names_out()] = encoded_data\n",
    "\n",
    "# Encode the labels\n",
    "label_encoder = LabelEncoder()\n",
    "heart_df[\"target_encoded\"] = label_encoder.fit_transform(heart_df[\"target\"])\n",
    "\n",
    "features = numerical_features + list(encoder.get_feature_names_out())"
   ],
   "id": "5fa14e3d71184cb1",
   "outputs": [
    {
     "name": "stdout",
     "output_type": "stream",
     "text": [
      "thalach    0\n",
      "oldpeak    0\n",
      "thal       0\n",
      "target     0\n",
      "dtype: int64\n"
     ]
    }
   ],
   "execution_count": 16
  },
  {
   "metadata": {
    "ExecuteTime": {
     "end_time": "2024-08-21T21:33:22.765755Z",
     "start_time": "2024-08-21T21:33:22.760033Z"
    }
   },
   "cell_type": "code",
   "source": "heart_df",
   "id": "1511cb94bfc7384b",
   "outputs": [
    {
     "data": {
      "text/plain": [
       "      thalach   oldpeak               thal       target  thal_Fixed_defect  \\\n",
       "0    0.017494  1.068965       Fixed_defect     Presence                1.0   \n",
       "1   -1.816334  0.381773             Normal  No Presense                0.0   \n",
       "2   -0.899420  1.326662  Reversable_defect  No Presense                0.0   \n",
       "3    1.633010  2.099753             Normal     Presence                0.0   \n",
       "4    0.978071  0.295874             Normal     Presence                0.0   \n",
       "..        ...       ...                ...          ...                ...   \n",
       "297 -1.161395 -0.734914  Reversable_defect  No Presense                0.0   \n",
       "298 -0.768432  0.124076  Reversable_defect  No Presense                0.0   \n",
       "299 -0.375469  2.013854  Reversable_defect  No Presense                0.0   \n",
       "300 -1.510696  0.124076  Reversable_defect  No Presense                0.0   \n",
       "301  1.065396 -0.906712             Normal  No Presense                0.0   \n",
       "\n",
       "     thal_Normal  thal_Reversable_defect  target_encoded  \n",
       "0            0.0                     0.0               1  \n",
       "1            1.0                     0.0               0  \n",
       "2            0.0                     1.0               0  \n",
       "3            1.0                     0.0               1  \n",
       "4            1.0                     0.0               1  \n",
       "..           ...                     ...             ...  \n",
       "297          0.0                     1.0               0  \n",
       "298          0.0                     1.0               0  \n",
       "299          0.0                     1.0               0  \n",
       "300          0.0                     1.0               0  \n",
       "301          1.0                     0.0               0  \n",
       "\n",
       "[297 rows x 8 columns]"
      ],
      "text/html": [
       "<div>\n",
       "<style scoped>\n",
       "    .dataframe tbody tr th:only-of-type {\n",
       "        vertical-align: middle;\n",
       "    }\n",
       "\n",
       "    .dataframe tbody tr th {\n",
       "        vertical-align: top;\n",
       "    }\n",
       "\n",
       "    .dataframe thead th {\n",
       "        text-align: right;\n",
       "    }\n",
       "</style>\n",
       "<table border=\"1\" class=\"dataframe\">\n",
       "  <thead>\n",
       "    <tr style=\"text-align: right;\">\n",
       "      <th></th>\n",
       "      <th>thalach</th>\n",
       "      <th>oldpeak</th>\n",
       "      <th>thal</th>\n",
       "      <th>target</th>\n",
       "      <th>thal_Fixed_defect</th>\n",
       "      <th>thal_Normal</th>\n",
       "      <th>thal_Reversable_defect</th>\n",
       "      <th>target_encoded</th>\n",
       "    </tr>\n",
       "  </thead>\n",
       "  <tbody>\n",
       "    <tr>\n",
       "      <th>0</th>\n",
       "      <td>0.017494</td>\n",
       "      <td>1.068965</td>\n",
       "      <td>Fixed_defect</td>\n",
       "      <td>Presence</td>\n",
       "      <td>1.0</td>\n",
       "      <td>0.0</td>\n",
       "      <td>0.0</td>\n",
       "      <td>1</td>\n",
       "    </tr>\n",
       "    <tr>\n",
       "      <th>1</th>\n",
       "      <td>-1.816334</td>\n",
       "      <td>0.381773</td>\n",
       "      <td>Normal</td>\n",
       "      <td>No Presense</td>\n",
       "      <td>0.0</td>\n",
       "      <td>1.0</td>\n",
       "      <td>0.0</td>\n",
       "      <td>0</td>\n",
       "    </tr>\n",
       "    <tr>\n",
       "      <th>2</th>\n",
       "      <td>-0.899420</td>\n",
       "      <td>1.326662</td>\n",
       "      <td>Reversable_defect</td>\n",
       "      <td>No Presense</td>\n",
       "      <td>0.0</td>\n",
       "      <td>0.0</td>\n",
       "      <td>1.0</td>\n",
       "      <td>0</td>\n",
       "    </tr>\n",
       "    <tr>\n",
       "      <th>3</th>\n",
       "      <td>1.633010</td>\n",
       "      <td>2.099753</td>\n",
       "      <td>Normal</td>\n",
       "      <td>Presence</td>\n",
       "      <td>0.0</td>\n",
       "      <td>1.0</td>\n",
       "      <td>0.0</td>\n",
       "      <td>1</td>\n",
       "    </tr>\n",
       "    <tr>\n",
       "      <th>4</th>\n",
       "      <td>0.978071</td>\n",
       "      <td>0.295874</td>\n",
       "      <td>Normal</td>\n",
       "      <td>Presence</td>\n",
       "      <td>0.0</td>\n",
       "      <td>1.0</td>\n",
       "      <td>0.0</td>\n",
       "      <td>1</td>\n",
       "    </tr>\n",
       "    <tr>\n",
       "      <th>...</th>\n",
       "      <td>...</td>\n",
       "      <td>...</td>\n",
       "      <td>...</td>\n",
       "      <td>...</td>\n",
       "      <td>...</td>\n",
       "      <td>...</td>\n",
       "      <td>...</td>\n",
       "      <td>...</td>\n",
       "    </tr>\n",
       "    <tr>\n",
       "      <th>297</th>\n",
       "      <td>-1.161395</td>\n",
       "      <td>-0.734914</td>\n",
       "      <td>Reversable_defect</td>\n",
       "      <td>No Presense</td>\n",
       "      <td>0.0</td>\n",
       "      <td>0.0</td>\n",
       "      <td>1.0</td>\n",
       "      <td>0</td>\n",
       "    </tr>\n",
       "    <tr>\n",
       "      <th>298</th>\n",
       "      <td>-0.768432</td>\n",
       "      <td>0.124076</td>\n",
       "      <td>Reversable_defect</td>\n",
       "      <td>No Presense</td>\n",
       "      <td>0.0</td>\n",
       "      <td>0.0</td>\n",
       "      <td>1.0</td>\n",
       "      <td>0</td>\n",
       "    </tr>\n",
       "    <tr>\n",
       "      <th>299</th>\n",
       "      <td>-0.375469</td>\n",
       "      <td>2.013854</td>\n",
       "      <td>Reversable_defect</td>\n",
       "      <td>No Presense</td>\n",
       "      <td>0.0</td>\n",
       "      <td>0.0</td>\n",
       "      <td>1.0</td>\n",
       "      <td>0</td>\n",
       "    </tr>\n",
       "    <tr>\n",
       "      <th>300</th>\n",
       "      <td>-1.510696</td>\n",
       "      <td>0.124076</td>\n",
       "      <td>Reversable_defect</td>\n",
       "      <td>No Presense</td>\n",
       "      <td>0.0</td>\n",
       "      <td>0.0</td>\n",
       "      <td>1.0</td>\n",
       "      <td>0</td>\n",
       "    </tr>\n",
       "    <tr>\n",
       "      <th>301</th>\n",
       "      <td>1.065396</td>\n",
       "      <td>-0.906712</td>\n",
       "      <td>Normal</td>\n",
       "      <td>No Presense</td>\n",
       "      <td>0.0</td>\n",
       "      <td>1.0</td>\n",
       "      <td>0.0</td>\n",
       "      <td>0</td>\n",
       "    </tr>\n",
       "  </tbody>\n",
       "</table>\n",
       "<p>297 rows × 8 columns</p>\n",
       "</div>"
      ]
     },
     "execution_count": 17,
     "metadata": {},
     "output_type": "execute_result"
    }
   ],
   "execution_count": 17
  },
  {
   "metadata": {
    "ExecuteTime": {
     "end_time": "2024-08-21T21:33:22.831251Z",
     "start_time": "2024-08-21T21:33:22.825154Z"
    }
   },
   "cell_type": "code",
   "source": [
    "# Fit a decision tree classifier\n",
    "from sklearn.tree import DecisionTreeClassifier, plot_tree\n",
    "from sklearn.metrics import accuracy_score\n",
    "from matplotlib import pyplot as plt\n",
    "\n",
    "# Create a Decision Tree classifier\n",
    "clf = DecisionTreeClassifier(random_state=42)\n",
    "\n",
    "# Train the model on the training data\n",
    "clf.fit(heart_df[features], heart_df[\"target_encoded\"])\n",
    "\n",
    "# Get model predictions\n",
    "y_pred = clf.predict(heart_df[features])\n",
    "\n",
    "# Calculate accuracy\n",
    "accuracy = accuracy_score(heart_df[\"target_encoded\"], y_pred)\n",
    "print(f\"Accuracy: {accuracy:.2f}\")"
   ],
   "id": "7a5d59b9f9a2ce5a",
   "outputs": [
    {
     "name": "stdout",
     "output_type": "stream",
     "text": [
      "Accuracy: 0.96\n"
     ]
    }
   ],
   "execution_count": 18
  },
  {
   "metadata": {
    "ExecuteTime": {
     "end_time": "2024-08-21T21:33:24.264622Z",
     "start_time": "2024-08-21T21:33:22.868842Z"
    }
   },
   "cell_type": "code",
   "source": [
    "# Visualize the decision tree\n",
    "plt.figure(figsize=(10, 6))\n",
    "plot_tree(clf, filled=True, impurity=False, feature_names=features, class_names=label_encoder.inverse_transform(clf.classes_))\n",
    "plt.show()"
   ],
   "id": "462d71679450853c",
   "outputs": [
    {
     "data": {
      "text/plain": [
       "<Figure size 1000x600 with 1 Axes>"
      ],
      "image/png": "[encoded data removed]"
     },
     "metadata": {},
     "output_type": "display_data"
    }
   ],
   "execution_count": 19
  },
  {
   "metadata": {},
   "cell_type": "markdown",
   "source": "Note: Left corresponds to True, Right corresponds to False",
   "id": "8968faeac046845"
  },
  {
   "metadata": {
    "ExecuteTime": {
     "end_time": "2024-08-21T21:33:24.815357Z",
     "start_time": "2024-08-21T21:33:24.279638Z"
    }
   },
   "cell_type": "code",
   "source": [
    "# Plot decision boundaries\n",
    "from ml_nb_code import plot_decision_boundary_heart\n",
    "plot_decision_boundary_heart(heart_df, clf, features)"
   ],
   "id": "431348a24a83fcb3",
   "outputs": [
    {
     "data": {
      "text/plain": [
       "<Figure size 1400x400 with 3 Axes>"
      ],
      "image/png": "[encoded data removed]"
     },
     "metadata": {},
     "output_type": "display_data"
    }
   ],
   "execution_count": 20
  },
  {
   "metadata": {},
   "cell_type": "markdown",
   "source": "### Overfitting and Underfitting",
   "id": "5d71049b61a85eaf"
  },
  {
   "metadata": {
    "ExecuteTime": {
     "end_time": "2024-08-21T21:33:24.923919Z",
     "start_time": "2024-08-21T21:33:24.834513Z"
    }
   },
   "cell_type": "code",
   "source": [
    "from ml_nb_code import linear_regression_fitting_example\n",
    "linear_regression_fitting_example()"
   ],
   "id": "ad252013a0bc7576",
   "outputs": [
    {
     "data": {
      "text/plain": [
       "HBox(children=(Checkbox(value=False, description='Show fit 1'), Checkbox(value=False, description='Show fit 2'…"
      ],
      "application/vnd.jupyter.widget-view+json": {
       "version_major": 2,
       "version_minor": 0,
       "model_id": "307ddc11a3b14b15a0110410577f6d9b"
      }
     },
     "metadata": {},
     "output_type": "display_data"
    },
    {
     "data": {
      "text/plain": [
       "Output()"
      ],
      "application/vnd.jupyter.widget-view+json": {
       "version_major": 2,
       "version_minor": 0,
       "model_id": "8ee064f874da4477873d8bf349c543fe"
      }
     },
     "metadata": {},
     "output_type": "display_data"
    }
   ],
   "execution_count": 21
  },
  {
   "metadata": {},
   "cell_type": "markdown",
   "source": [
    "## Model Evaluation\n",
    "- Evaluate model performance on unseen data\n",
    "\n",
    "### Holdout Method\n",
    "- Split available (labelled) data into a training and validation set (also sometimes called testing set)\n",
    "- Generally split data 80% for training and 20% for validation\n",
    "- Scikit-learn has a function for this: [train_test_split](https://scikit-learn.org/stable/modules/generated/sklearn.model_selection.train_test_split.html)\n",
    "\n",
    "### Cross Validation\n",
    "- Allows for better estimation of model performance\n",
    "- Gives indication on uncertainty in the model performance\n",
    "- Also supported by scikit-learn: [cross_val_score](https://scikit-learn.org/stable/modules/generated/sklearn.model_selection.cross_val_score.html)\n",
    "\n",
    "<img src=\"resources/imgs/ml_cross_val.png\" width=\"1000\"/>\n",
    "\n",
    "TODO:\n",
    "- Add interactive example for both train/val split and cross validation to show effect of train/val proportion and number of folds\n"
   ],
   "id": "1835713521d9109c"
  },
  {
   "metadata": {
    "ExecuteTime": {
     "end_time": "2024-08-21T21:33:25.614697Z",
     "start_time": "2024-08-21T21:33:24.951176Z"
    }
   },
   "cell_type": "code",
   "source": [
    "### Holdout Example\n",
    "from ml_nb_code import get_prepped_heart_df\n",
    "from sklearn.model_selection import train_test_split\n",
    "from sklearn.tree import DecisionTreeClassifier\n",
    "from sklearn.metrics import accuracy_score\n",
    "seed = 42\n",
    "\n",
    "heart_df, feature_keys, _ = get_prepped_heart_df()\n",
    "\n",
    "# Split into training and validation sets\n",
    "X_train, X_val, y_train, y_val = train_test_split(heart_df[feature_keys],\n",
    "                                                  heart_df[\"target_encoded\"],\n",
    "                                                  test_size=0.2,\n",
    "                                                  random_state=seed)\n",
    "train_df = pd.concat([X_train, y_train], axis=1)\n",
    "val_df = pd.concat([X_val, y_val], axis=1)\n",
    "\n",
    "# Create a Decision Tree classifier\n",
    "clf = DecisionTreeClassifier(random_state=seed)\n",
    "\n",
    "# Train the model on the training data\n",
    "clf.fit(train_df[feature_keys], train_df[\"target_encoded\"])\n",
    "\n",
    "# Get model predictions\n",
    "train_y_pred = clf.predict(train_df[feature_keys])\n",
    "val_y_pred = clf.predict(val_df[feature_keys])\n",
    "\n",
    "# Calculate accuracy\n",
    "train_accuracy = accuracy_score(train_df[\"target_encoded\"], train_y_pred)\n",
    "val_accuracy = accuracy_score(val_df[\"target_encoded\"], val_y_pred)\n",
    "\n",
    "print(f\"Number of training samples: {len(train_df)}\")\n",
    "print(f\"Number of validation samples: {len(val_df)}\")\n",
    "\n",
    "print(f\"Training Accuracy: {train_accuracy:.4f}\")\n",
    "print(f\"Validation Accuracy: {val_accuracy:.4f}\")"
   ],
   "id": "499c78ead3bde306",
   "outputs": [
    {
     "name": "stdout",
     "output_type": "stream",
     "text": [
      "Number of training samples: 237\n",
      "Number of validation samples: 60\n",
      "Training Accuracy: 0.9662\n",
      "Validation Accuracy: 0.7000\n"
     ]
    }
   ],
   "execution_count": 22
  },
  {
   "metadata": {
    "ExecuteTime": {
     "end_time": "2024-08-21T21:33:26.593188Z",
     "start_time": "2024-08-21T21:33:25.644784Z"
    }
   },
   "cell_type": "code",
   "source": [
    "### Interactive holdout example\n",
    "from ml_nb_code import run_train_val_split_example\n",
    "run_train_val_split_example()"
   ],
   "id": "c77dd108584011d0",
   "outputs": [
    {
     "data": {
      "text/plain": [
       "interactive(children=(FloatSlider(value=0.2, continuous_update=False, description='Validation size:', max=0.95…"
      ],
      "application/vnd.jupyter.widget-view+json": {
       "version_major": 2,
       "version_minor": 0,
       "model_id": "62ea3501179a4a5c8472a4f51d217fcd"
      }
     },
     "metadata": {},
     "output_type": "display_data"
    },
    {
     "data": {
      "text/plain": [
       "Output()"
      ],
      "application/vnd.jupyter.widget-view+json": {
       "version_major": 2,
       "version_minor": 0,
       "model_id": "ebad55a00ffb46b28ec9aabea1c5dd6c"
      }
     },
     "metadata": {},
     "output_type": "display_data"
    }
   ],
   "execution_count": 23
  },
  {
   "metadata": {
    "ExecuteTime": {
     "end_time": "2024-08-21T21:33:27.287018Z",
     "start_time": "2024-08-21T21:33:26.615227Z"
    }
   },
   "cell_type": "code",
   "source": [
    "### Cross Validation Example\n",
    "from sklearn.tree import DecisionTreeClassifier\n",
    "from sklearn.metrics import accuracy_score\n",
    "from sklearn.model_selection import cross_val_score\n",
    "from ml_nb_code import get_prepped_heart_df\n",
    "import numpy as np\n",
    "\n",
    "heart_df, feature_keys, _ = get_prepped_heart_df()\n",
    "\n",
    "# Create a Decision Tree classifier\n",
    "clf = DecisionTreeClassifier(random_state=42)\n",
    "\n",
    "# Use cross-validation to evaluate the model\n",
    "cv_scores = cross_val_score(clf, heart_df[feature_keys], heart_df[\"target_encoded\"], cv=5)\n",
    "\n",
    "# Print the cross-validation scores\n",
    "print(f\"Cross-validation scores: {', '.join([f'{cur_score:.3f}' for cur_score in cv_scores])}\")\n",
    "print(f\"Mean cross-validation score: {cv_scores.mean():.2f}\")\n",
    "print(f\"Standard deviation of cross-validation scores: {cv_scores.std():.2f}\")"
   ],
   "id": "16e6fb586fd934a0",
   "outputs": [
    {
     "name": "stdout",
     "output_type": "stream",
     "text": [
      "Cross-validation scores: 0.667, 0.700, 0.712, 0.593, 0.610\n",
      "Mean cross-validation score: 0.66\n",
      "Standard deviation of cross-validation scores: 0.05\n"
     ]
    }
   ],
   "execution_count": 24
  },
  {
   "metadata": {
    "ExecuteTime": {
     "end_time": "2024-08-21T21:33:28.047511Z",
     "start_time": "2024-08-21T21:33:27.367071Z"
    }
   },
   "cell_type": "code",
   "source": [
    "### Interactive cross validation example\n",
    "from ml_nb_code import run_cv_example\n",
    "run_cv_example()"
   ],
   "id": "e1051112e068cab5",
   "outputs": [
    {
     "data": {
      "text/plain": [
       "interactive(children=(IntSlider(value=5, continuous_update=False, description='Number of splits:', max=10, min…"
      ],
      "application/vnd.jupyter.widget-view+json": {
       "version_major": 2,
       "version_minor": 0,
       "model_id": "2d352e8414074458866033fbed261142"
      }
     },
     "metadata": {},
     "output_type": "display_data"
    },
    {
     "data": {
      "text/plain": [
       "Output()"
      ],
      "application/vnd.jupyter.widget-view+json": {
       "version_major": 2,
       "version_minor": 0,
       "model_id": "9eb7be195a3143459b6a4c3c2d262aaf"
      }
     },
     "metadata": {},
     "output_type": "display_data"
    }
   ],
   "execution_count": 25
  },
  {
   "metadata": {},
   "cell_type": "markdown",
   "source": [
    "## How to address overfitting/underfitting?\n",
    "\n",
    "### Overfitting\n",
    "- Collect more data\n",
    "- Reduce the complexity of the model\n",
    "- Regularization\n",
    "\n",
    "### Underfitting\n",
    "- Increase the complexity of the model\n",
    "- Different model type"
   ],
   "id": "ec42d85892c0e5f0"
  },
  {
   "metadata": {},
   "cell_type": "markdown",
   "source": [
    "## Hyperparameters\n",
    "- Parameters that are not learned during training\n",
    "- Generally set before training the model\n",
    "- Can have a large impact on model performance, i.e. very useful for addressing overfitting/underfitting\n",
    "- Model type specific\n",
    "- Examples for a Decision Tree:\n",
    "    - Maximum depth of the tree\n",
    "    - Minimum number of samples required to split a node\n",
    "    - Minimum number of samples required at each leaf node\n",
    "    - For a full list see the Decision Tree [documentation](https://scikit-learn.org/stable/modules/generated/sklearn.tree.DecisionTreeClassifier.html)"
   ],
   "id": "82334cae868173bc"
  },
  {
   "metadata": {
    "ExecuteTime": {
     "end_time": "2024-08-21T21:33:29.524188Z",
     "start_time": "2024-08-21T21:33:28.077909Z"
    }
   },
   "cell_type": "code",
   "source": [
    "### Hyperparameter Example\n",
    "import pandas as pd\n",
    "from sklearn.tree import DecisionTreeClassifier\n",
    "from sklearn.metrics import accuracy_score\n",
    "from sklearn.model_selection import train_test_split\n",
    "from sklearn.tree import plot_tree\n",
    "import matplotlib.pyplot as plt\n",
    "from ml_nb_code import get_prepped_heart_df\n",
    "seed = 42\n",
    "\n",
    "heart_df, features, label_encoder = get_prepped_heart_df()\n",
    "\n",
    "# Split into training and validation sets\n",
    "X_train, X_val, y_train, y_val = train_test_split(heart_df[features],\n",
    "                                                  heart_df[\"target_encoded\"],\n",
    "                                                  test_size=0.2,\n",
    "                                                  random_state=seed)\n",
    "train_df = pd.concat([X_train, y_train], axis=1)\n",
    "val_df = pd.concat([X_val, y_val], axis=1)\n",
    "\n",
    "# Create a Decision Tree classifier\n",
    "clf = DecisionTreeClassifier(random_state=seed, max_depth=4)\n",
    "\n",
    "# Train the model on the training data\n",
    "clf.fit(train_df[features], train_df[\"target_encoded\"])\n",
    "\n",
    "# Get model predictions\n",
    "train_y_pred = clf.predict(train_df[features])\n",
    "val_y_pred = clf.predict(val_df[features])\n",
    "\n",
    "# Calculate accuracy\n",
    "train_accuracy = accuracy_score(train_df[\"target_encoded\"], train_y_pred)\n",
    "val_accuracy = accuracy_score(val_df[\"target_encoded\"], val_y_pred)\n",
    "\n",
    "print(f\"Training Accuracy: {train_accuracy:.4f}\")\n",
    "print(f\"Validation Accuracy: {val_accuracy:.4f}\")\n",
    "\n",
    "# Visualize the decision tree\n",
    "plt.figure(figsize=(14, 4))\n",
    "plot_tree(clf, filled=True, impurity=False, feature_names=features, class_names=label_encoder.inverse_transform(clf.classes_))\n",
    "plt.show()\n",
    "\n",
    "from ml_nb_code import plot_decision_boundary_heart\n",
    "plot_decision_boundary_heart(train_df, clf, features, val_df=val_df, figsize=(14, 4))"
   ],
   "id": "fe9161f1bba08608",
   "outputs": [
    {
     "name": "stdout",
     "output_type": "stream",
     "text": [
      "Training Accuracy: 0.8143\n",
      "Validation Accuracy: 0.8000\n"
     ]
    },
    {
     "data": {
      "text/plain": [
       "<Figure size 1400x400 with 1 Axes>"
      ],
      "image/png": "[encoded data removed]"
     },
     "metadata": {},
     "output_type": "display_data"
    },
    {
     "data": {
      "text/plain": [
       "<Figure size 1400x400 with 3 Axes>"
      ],
      "image/png": "[encoded data removed]"
     },
     "metadata": {},
     "output_type": "display_data"
    }
   ],
   "execution_count": 26
  },
  {
   "metadata": {
    "ExecuteTime": {
     "end_time": "2024-08-21T21:33:31.604946Z",
     "start_time": "2024-08-21T21:33:29.545320Z"
    }
   },
   "cell_type": "code",
   "source": [
    "### Interactive Hyperparameter Example\n",
    "from ml_nb_code import hyperparam_tuning_example\n",
    "hyperparam_tuning_example()"
   ],
   "id": "f818f576baeacd6e",
   "outputs": [
    {
     "data": {
      "text/plain": [
       "HBox(children=(IntSlider(value=10, continuous_update=False, description='Max Depth:', max=10, min=1, style=Sli…"
      ],
      "application/vnd.jupyter.widget-view+json": {
       "version_major": 2,
       "version_minor": 0,
       "model_id": "cdb1c6846182448ea4ce2d0e98f75dfb"
      }
     },
     "metadata": {},
     "output_type": "display_data"
    },
    {
     "data": {
      "text/plain": [
       "Output()"
      ],
      "application/vnd.jupyter.widget-view+json": {
       "version_major": 2,
       "version_minor": 0,
       "model_id": "4c92736ea1104e40aa175304ec847683"
      }
     },
     "metadata": {},
     "output_type": "display_data"
    }
   ],
   "execution_count": 27
  },
  {
   "metadata": {},
   "cell_type": "markdown",
   "source": [
    "## How to select the \"best\" hyperparameter values?\n",
    "\n",
    "### Hyperparameter tuning\n",
    "- Basic idea: Search through different hyperparameter values and evaluate the model performance\n",
    "- Lots of different methods available, see the [Scikit-learn User Guide](https://scikit-learn.org/stable/modules/grid_search.html) for more details\n",
    "\n",
    "##### Grid Search\n",
    "Determines the best hyperparameters by exhaustively searching through a specified parameter grid   \n",
    "\n",
    "##### Random Search\n",
    "Determines the best hyperparameters by randomly sampling from a specified parameter grid\n",
    "\n",
    "<img src=\"resources/imgs/ml_hyper_tuning.png\" width=\"1000\"/>"
   ],
   "id": "f1f4ebc9400b8ecb"
  },
  {
   "metadata": {
    "ExecuteTime": {
     "end_time": "2024-08-21T21:33:33.540315Z",
     "start_time": "2024-08-21T21:33:31.628459Z"
    }
   },
   "cell_type": "code",
   "source": [
    "### Grid Search Example\n",
    "import pandas as pd\n",
    "from sklearn.tree import DecisionTreeClassifier\n",
    "from sklearn.model_selection import GridSearchCV\n",
    "from ml_nb_code import get_prepped_heart_df\n",
    "\n",
    "heart_df, feature_keys, _ = get_prepped_heart_df()\n",
    "\n",
    "# Create the classifier\n",
    "rf = DecisionTreeClassifier(random_state=42)\n",
    "\n",
    "# Define the parameter grid for the search\n",
    "param_grid = {\n",
    "    'max_depth': [2, 4, 8],\n",
    "    'min_samples_split': [2, 5, 10, 20],\n",
    "    'min_samples_leaf': [1, 5, 10, 20]\n",
    "}\n",
    "\n",
    "# Perform the grid search using cross-validation\n",
    "grid_search = GridSearchCV(estimator=rf, param_grid=param_grid, cv=5, n_jobs=-1, verbose=5, scoring='accuracy')\n",
    "grid_search.fit(heart_df[feature_keys], heart_df[\"target_encoded\"])\n",
    "\n",
    "# Print the best parameters and the best score\n",
    "print(f\"Best parameters: {grid_search.best_params_}\")"
   ],
   "id": "6ae86de41a604edb",
   "outputs": [
    {
     "name": "stdout",
     "output_type": "stream",
     "text": [
      "Fitting 5 folds for each of 48 candidates, totalling 240 fits\n",
      "Best parameters: {'max_depth': 4, 'min_samples_leaf': 1, 'min_samples_split': 20}\n"
     ]
    }
   ],
   "execution_count": 28
  },
  {
   "metadata": {
    "ExecuteTime": {
     "end_time": "2024-08-21T21:33:33.568433Z",
     "start_time": "2024-08-21T21:33:33.564215Z"
    }
   },
   "cell_type": "code",
   "source": [
    "# Create a dataframe with the results\n",
    "results = []\n",
    "for cur_param in param_grid.keys():\n",
    "    results.append(pd.DataFrame(grid_search.cv_results_)[f\"param_{cur_param}\"])\n",
    "\n",
    "results_df = pd.concat(results, axis=1)\n",
    "results_df[\"mean_test_score\"] = grid_search.cv_results_[\"mean_test_score\"]\n",
    "results_df[\"std_test_score\"] = grid_search.cv_results_[\"std_test_score\"]"
   ],
   "id": "2fdb71a37a97736e",
   "outputs": [],
   "execution_count": 29
  },
  {
   "metadata": {
    "ExecuteTime": {
     "end_time": "2024-08-21T21:33:33.595206Z",
     "start_time": "2024-08-21T21:33:33.590352Z"
    }
   },
   "cell_type": "code",
   "source": "results_df.sort_values(\"mean_test_score\", ascending=False).head(10)",
   "id": "e71b4574f31470f2",
   "outputs": [
    {
     "data": {
      "text/plain": [
       "   param_max_depth param_min_samples_split param_min_samples_leaf  \\\n",
       "19               4                      20                      1   \n",
       "24               4                       2                     10   \n",
       "26               4                      10                     10   \n",
       "25               4                       5                     10   \n",
       "27               4                      20                     10   \n",
       "18               4                      10                      1   \n",
       "17               4                       5                      1   \n",
       "16               4                       2                      1   \n",
       "11               2                      20                     10   \n",
       "4                2                       2                      5   \n",
       "\n",
       "    mean_test_score  std_test_score  \n",
       "19         0.747345        0.042022  \n",
       "24         0.747175        0.052363  \n",
       "26         0.747175        0.052363  \n",
       "25         0.747175        0.052363  \n",
       "27         0.747175        0.052363  \n",
       "18         0.744011        0.043631  \n",
       "17         0.744011        0.043631  \n",
       "16         0.740621        0.048963  \n",
       "11         0.740565        0.024646  \n",
       "4          0.740565        0.024646  "
      ],
      "text/html": [
       "<div>\n",
       "<style scoped>\n",
       "    .dataframe tbody tr th:only-of-type {\n",
       "        vertical-align: middle;\n",
       "    }\n",
       "\n",
       "    .dataframe tbody tr th {\n",
       "        vertical-align: top;\n",
       "    }\n",
       "\n",
       "    .dataframe thead th {\n",
       "        text-align: right;\n",
       "    }\n",
       "</style>\n",
       "<table border=\"1\" class=\"dataframe\">\n",
       "  <thead>\n",
       "    <tr style=\"text-align: right;\">\n",
       "      <th></th>\n",
       "      <th>param_max_depth</th>\n",
       "      <th>param_min_samples_split</th>\n",
       "      <th>param_min_samples_leaf</th>\n",
       "      <th>mean_test_score</th>\n",
       "      <th>std_test_score</th>\n",
       "    </tr>\n",
       "  </thead>\n",
       "  <tbody>\n",
       "    <tr>\n",
       "      <th>19</th>\n",
       "      <td>4</td>\n",
       "      <td>20</td>\n",
       "      <td>1</td>\n",
       "      <td>0.747345</td>\n",
       "      <td>0.042022</td>\n",
       "    </tr>\n",
       "    <tr>\n",
       "      <th>24</th>\n",
       "      <td>4</td>\n",
       "      <td>2</td>\n",
       "      <td>10</td>\n",
       "      <td>0.747175</td>\n",
       "      <td>0.052363</td>\n",
       "    </tr>\n",
       "    <tr>\n",
       "      <th>26</th>\n",
       "      <td>4</td>\n",
       "      <td>10</td>\n",
       "      <td>10</td>\n",
       "      <td>0.747175</td>\n",
       "      <td>0.052363</td>\n",
       "    </tr>\n",
       "    <tr>\n",
       "      <th>25</th>\n",
       "      <td>4</td>\n",
       "      <td>5</td>\n",
       "      <td>10</td>\n",
       "      <td>0.747175</td>\n",
       "      <td>0.052363</td>\n",
       "    </tr>\n",
       "    <tr>\n",
       "      <th>27</th>\n",
       "      <td>4</td>\n",
       "      <td>20</td>\n",
       "      <td>10</td>\n",
       "      <td>0.747175</td>\n",
       "      <td>0.052363</td>\n",
       "    </tr>\n",
       "    <tr>\n",
       "      <th>18</th>\n",
       "      <td>4</td>\n",
       "      <td>10</td>\n",
       "      <td>1</td>\n",
       "      <td>0.744011</td>\n",
       "      <td>0.043631</td>\n",
       "    </tr>\n",
       "    <tr>\n",
       "      <th>17</th>\n",
       "      <td>4</td>\n",
       "      <td>5</td>\n",
       "      <td>1</td>\n",
       "      <td>0.744011</td>\n",
       "      <td>0.043631</td>\n",
       "    </tr>\n",
       "    <tr>\n",
       "      <th>16</th>\n",
       "      <td>4</td>\n",
       "      <td>2</td>\n",
       "      <td>1</td>\n",
       "      <td>0.740621</td>\n",
       "      <td>0.048963</td>\n",
       "    </tr>\n",
       "    <tr>\n",
       "      <th>11</th>\n",
       "      <td>2</td>\n",
       "      <td>20</td>\n",
       "      <td>10</td>\n",
       "      <td>0.740565</td>\n",
       "      <td>0.024646</td>\n",
       "    </tr>\n",
       "    <tr>\n",
       "      <th>4</th>\n",
       "      <td>2</td>\n",
       "      <td>2</td>\n",
       "      <td>5</td>\n",
       "      <td>0.740565</td>\n",
       "      <td>0.024646</td>\n",
       "    </tr>\n",
       "  </tbody>\n",
       "</table>\n",
       "</div>"
      ]
     },
     "execution_count": 30,
     "metadata": {},
     "output_type": "execute_result"
    }
   ],
   "execution_count": 30
  },
  {
   "metadata": {},
   "cell_type": "markdown",
   "source": [
    "## Full Hands-On Example\n",
    "- Add details here for a full hands on example\n",
    "TODO: \n",
    "- Determine which dataset to use for this"
   ],
   "id": "ebbe4ad0d0734501"
  },
  {
   "metadata": {
    "ExecuteTime": {
     "end_time": "2024-08-21T21:33:33.637475Z",
     "start_time": "2024-08-21T21:33:33.635884Z"
    }
   },
   "cell_type": "code",
   "source": "",
   "id": "c4f8b52dfba4715d",
   "outputs": [],
   "execution_count": null
  }
 ],
 "metadata": {
  "kernelspec": {
   "display_name": "Python 3",
   "language": "python",
   "name": "python3"
  },
  "language_info": {
   "codemirror_mode": {
    "name": "ipython",
    "version": 2
   },
   "file_extension": ".py",
   "mimetype": "text/x-python",
   "name": "python",
   "nbconvert_exporter": "python",
   "pygments_lexer": "ipython2",
   "version": "2.7.6"
  }
 },
 "nbformat": 4,
 "nbformat_minor": 5
}
